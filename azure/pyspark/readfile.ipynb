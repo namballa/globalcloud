df = spark.read
      .option("header", "true")
      .option("inferSchema", "true")
      .csv("1.csv", 
           "2.csv")

println(s"total number of records these two files ${weatherDF.count}")